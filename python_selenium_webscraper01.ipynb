{
 "cells": [
  {
   "cell_type": "code",
   "execution_count": 1,
   "id": "3860560f",
   "metadata": {},
   "outputs": [],
   "source": [
    "from selenium import webdriver      \n",
    "from selenium.common.exceptions import NoSuchElementException\n",
    "from selenium.webdriver.common.by import By\n",
    "from selenium.webdriver.support.ui import WebDriverWait\n",
    "from selenium.webdriver.support import expected_conditions as EC\n",
    "import time\n",
    "from datetime import datetime\n",
    "import locale"
   ]
  },
  {
   "cell_type": "code",
   "execution_count": null,
   "id": "0bca9587",
   "metadata": {},
   "outputs": [],
   "source": [
    "# Configura o caminho para o arquivo do chromedriver "
   ]
  },
  {
   "cell_type": "code",
   "execution_count": 2,
   "id": "593ec4a6",
   "metadata": {},
   "outputs": [
    {
     "name": "stderr",
     "output_type": "stream",
     "text": [
      "<ipython-input-2-14ceff8fa825>:2: DeprecationWarning: executable_path has been deprecated, please pass in a Service object\n",
      "  driver = webdriver.Chrome(PATH)\n"
     ]
    }
   ],
   "source": [
    "PATH=\"C:\\Program Files (x86)\\chromedriver.exe\"\n",
    "driver = webdriver.Chrome(PATH)"
   ]
  },
  {
   "cell_type": "code",
   "execution_count": 3,
   "id": "730b994c",
   "metadata": {},
   "outputs": [],
   "source": [
    "# Endereço dos dados históricos do bitcoin na Coin Market Cap"
   ]
  },
  {
   "cell_type": "code",
   "execution_count": 4,
   "id": "64322501",
   "metadata": {},
   "outputs": [],
   "source": [
    "CMC_PAGE_URL=\"https://coinmarketcap.com/currencies/bitcoin/historical-data/\"\n",
    "driver.get(CMC_PAGE_URL)"
   ]
  },
  {
   "cell_type": "code",
   "execution_count": null,
   "id": "1f557b3d",
   "metadata": {},
   "outputs": [],
   "source": [
    "# Links a serem clicados para a navegação no calendário dos dados históricos"
   ]
  },
  {
   "cell_type": "code",
   "execution_count": 5,
   "id": "5abf3735",
   "metadata": {},
   "outputs": [],
   "source": [
    "paths=[\n",
    "'/html/body/div[1]/div/div[1]/div[2]/div/div[3]/div/div/div[1]/div[1]/span/button',\n",
    "'/html/body//div/div[1]/div/div/div[1]/div[1]/div/div/div[2]/div[1]/div[1]/span[2]',\n",
    "'/html/body//div/div[1]/div/div/div[1]/div[1]/div/div/div[2]/div[1]/div[1]/span[2]',\n",
    "'/html/body/div[1]/div/div[1]/div[2]/div/div[3]/div/div/div[1]/div[1]/div/div/div[1]/div/div/div[1]/div[1]/div/div/div[2]/div[1]/div[1]/div[2]/span[4]',\n",
    "'/html/body/div[1]/div/div[1]/div[2]/div/div[3]/div/div/div[1]/div[1]/div/div/div[1]/div/div/div[1]/div[1]/div/div/div[2]/div[1]/div[1]/div[1]/span[1]',\n",
    "'/html/body/div[1]/div/div[1]/div[2]/div/div[3]/div/div/div[1]/div[1]/div/div/div[1]/div/div/div[1]/div[1]/div/div/div[2]/div[2]/div[1]/div[3]',\n",
    "'/html/body/div[1]/div/div[1]/div[2]/div/div[3]/div/div/div[1]/div[1]/div/div/div[1]/div/div/div[1]/div[1]/div/div/div[2]/div[1]/div[1]/span[2]',\n",
    "'/html/body/div[1]/div/div[1]/div[2]/div/div[3]/div/div/div[1]/div[1]/div/div/div[1]/div/div/div[1]/div[1]/div/div/div[2]/div[1]/div[1]/span[2]',\n",
    "'/html/body/div[1]/div/div[1]/div[2]/div/div[3]/div/div/div[1]/div[1]/div/div/div[1]/div/div/div[1]/div[1]/div/div/div[2]/div[1]/div[1]/div[2]/span[10]',\n",
    "'/html/body/div[1]/div/div[1]/div[2]/div/div[3]/div/div/div[1]/div[1]/div/div/div[1]/div/div/div[1]/div[1]/div/div/div[2]/div[1]/div[1]/div[1]/span[12]',\n",
    "'/html/body/div[1]/div/div[1]/div[2]/div/div[3]/div/div/div[1]/div[1]/div/div/div[1]/div/div/div[1]/div[1]/div/div/div[2]/div[2]/div[2]/div[4]',\n",
    "'/html/body/div[1]/div/div[1]/div[2]/div/div[3]/div/div/div[1]/div[1]/div/div/div[1]/div/div/div[2]/span/button']"
   ]
  },
  {
   "cell_type": "code",
   "execution_count": 6,
   "id": "cf65d4cc",
   "metadata": {},
   "outputs": [],
   "source": [
    "# Executa o clique no calendário a fim de selecionar a faixa de data de 1 de janeiro\n",
    "# de 2019 a 7 de dezembro de 2022"
   ]
  },
  {
   "cell_type": "code",
   "execution_count": 7,
   "id": "55c34439",
   "metadata": {},
   "outputs": [
    {
     "name": "stderr",
     "output_type": "stream",
     "text": [
      "<ipython-input-7-1a59c98cb16d>:2: DeprecationWarning: find_element_by_xpath is deprecated. Please use find_element(by=By.XPATH, value=xpath) instead\n",
      "  buttonClick =driver.find_element_by_xpath(paths[i])\n"
     ]
    }
   ],
   "source": [
    "for i in range(0,len(paths)):\n",
    "    buttonClick =driver.find_element_by_xpath(paths[i])\n",
    "    time.sleep(2)\n",
    "    buttonClick.click()   "
   ]
  },
  {
   "cell_type": "code",
   "execution_count": null,
   "id": "70460a30",
   "metadata": {},
   "outputs": [],
   "source": [
    "# Expande 45 vezes o botão Load More até exibir todas as datas desejadas"
   ]
  },
  {
   "cell_type": "code",
   "execution_count": 8,
   "id": "1a57a75b",
   "metadata": {},
   "outputs": [
    {
     "name": "stderr",
     "output_type": "stream",
     "text": [
      "<ipython-input-8-820e83af9f5a>:4: DeprecationWarning: find_element_by_xpath is deprecated. Please use find_element(by=By.XPATH, value=xpath) instead\n",
      "  loadMoreButton =driver.find_element_by_xpath(LOAD_MORE_BUTTON_XPATH )\n"
     ]
    },
    {
     "name": "stdout",
     "output_type": "stream",
     "text": [
      "Complete\n"
     ]
    }
   ],
   "source": [
    "LOAD_MORE_BUTTON_XPATH ='//*[@id=\"__next\"]/div/div[1]/div[2]/div/div[3]/div/div/div[1]/p[1]' \n",
    "for i in range(0,45):\n",
    "    try:\n",
    "        loadMoreButton =driver.find_element_by_xpath(LOAD_MORE_BUTTON_XPATH )\n",
    "        time.sleep(2)\n",
    "        loadMoreButton.click()\n",
    "        time.sleep(1)\n",
    "    except Exception as e:\n",
    "        print(e)\n",
    "        break\n",
    "print (\"Complete\")\n",
    "time.sleep(10)"
   ]
  },
  {
   "cell_type": "code",
   "execution_count": 9,
   "id": "5dca9a20",
   "metadata": {
    "scrolled": true
   },
   "outputs": [
    {
     "name": "stderr",
     "output_type": "stream",
     "text": [
      "<ipython-input-9-c46673812d3b>:2: DeprecationWarning: find_elements_by_tag_name is deprecated. Please use find_elements(by=By.TAG_NAME, value=name) instead\n",
      "  header=driver.find_elements_by_tag_name('th')\n"
     ]
    },
    {
     "name": "stdout",
     "output_type": "stream",
     "text": [
      "Date\n",
      "Open*\n",
      "High\n",
      "Low\n",
      "Close**\n",
      "Volume\n",
      "Market Cap\n"
     ]
    }
   ],
   "source": [
    "# Captura todos os elementos th da tabela (colunas da tabela)\n",
    "header=driver.find_elements_by_tag_name('th')\n",
    "for headerEl in header:\n",
    "    print(headerEl.text)"
   ]
  },
  {
   "cell_type": "code",
   "execution_count": null,
   "id": "0fe65d4e",
   "metadata": {},
   "outputs": [],
   "source": [
    "# Captura todos os elementos td da tabela(linhas da tabela)"
   ]
  },
  {
   "cell_type": "code",
   "execution_count": 11,
   "id": "78690eef",
   "metadata": {},
   "outputs": [
    {
     "name": "stderr",
     "output_type": "stream",
     "text": [
      "<ipython-input-11-1341e35503b5>:1: DeprecationWarning: find_elements_by_tag_name is deprecated. Please use find_elements(by=By.TAG_NAME, value=name) instead\n",
      "  data=driver.find_elements_by_tag_name('td')\n"
     ]
    }
   ],
   "source": [
    "data=driver.find_elements_by_tag_name('td')"
   ]
  },
  {
   "cell_type": "code",
   "execution_count": null,
   "id": "28dab545",
   "metadata": {},
   "outputs": [],
   "source": [
    "# Create column names for the final dataframe"
   ]
  },
  {
   "cell_type": "code",
   "execution_count": 12,
   "id": "cb228507",
   "metadata": {},
   "outputs": [],
   "source": [
    "cols=[]\n",
    "for h in header:\n",
    "    cols.append(h.text)"
   ]
  },
  {
   "cell_type": "code",
   "execution_count": null,
   "id": "099922cc",
   "metadata": {},
   "outputs": [],
   "source": [
    "# Move cada cada 7 itens para uma posição da array rows"
   ]
  },
  {
   "cell_type": "code",
   "execution_count": null,
   "id": "dcdce576",
   "metadata": {},
   "outputs": [],
   "source": [
    "x=[]\n",
    "rows=[]\n",
    "for i in range(0,len(data),7):\n",
    "    for z in range(0,7):\n",
    "        x.append([data[i+z].text])\n",
    "    rows.append(x)\n",
    "    x=[]"
   ]
  },
  {
   "cell_type": "code",
   "execution_count": null,
   "id": "6621b71b",
   "metadata": {},
   "outputs": [],
   "source": [
    "# Cria o dataframe btc_dataframe com os nomes das colunas presentes em cols \n",
    "#e datas e preços presentes em rows."
   ]
  },
  {
   "cell_type": "code",
   "execution_count": 93,
   "id": "5d0ec427",
   "metadata": {},
   "outputs": [],
   "source": [
    "btc_dataframe=pd.DataFrame(rows,columns=cols)"
   ]
  },
  {
   "cell_type": "code",
   "execution_count": 94,
   "id": "b1a6097f",
   "metadata": {
    "scrolled": false
   },
   "outputs": [
    {
     "data": {
      "text/html": [
       "<div>\n",
       "<style scoped>\n",
       "    .dataframe tbody tr th:only-of-type {\n",
       "        vertical-align: middle;\n",
       "    }\n",
       "\n",
       "    .dataframe tbody tr th {\n",
       "        vertical-align: top;\n",
       "    }\n",
       "\n",
       "    .dataframe thead th {\n",
       "        text-align: right;\n",
       "    }\n",
       "</style>\n",
       "<table border=\"1\" class=\"dataframe\">\n",
       "  <thead>\n",
       "    <tr style=\"text-align: right;\">\n",
       "      <th></th>\n",
       "      <th>Date</th>\n",
       "      <th>Open*</th>\n",
       "      <th>High</th>\n",
       "      <th>Low</th>\n",
       "      <th>Close**</th>\n",
       "      <th>Volume</th>\n",
       "      <th>Market Cap</th>\n",
       "    </tr>\n",
       "  </thead>\n",
       "  <tbody>\n",
       "    <tr>\n",
       "      <th>0</th>\n",
       "      <td>[Dec 07, 2022]</td>\n",
       "      <td>[$17,089.51]</td>\n",
       "      <td>[$17,109.38]</td>\n",
       "      <td>[$16,750.56]</td>\n",
       "      <td>[$16,848.13]</td>\n",
       "      <td>[$19,675,404,389]</td>\n",
       "      <td>[$323,943,465,219]</td>\n",
       "    </tr>\n",
       "    <tr>\n",
       "      <th>1</th>\n",
       "      <td>[Dec 06, 2022]</td>\n",
       "      <td>[$16,975.24]</td>\n",
       "      <td>[$17,091.86]</td>\n",
       "      <td>[$16,939.92]</td>\n",
       "      <td>[$17,089.50]</td>\n",
       "      <td>[$19,889,922,369]</td>\n",
       "      <td>[$328,566,216,152]</td>\n",
       "    </tr>\n",
       "    <tr>\n",
       "      <th>2</th>\n",
       "      <td>[Dec 05, 2022]</td>\n",
       "      <td>[$17,128.89]</td>\n",
       "      <td>[$17,378.15]</td>\n",
       "      <td>[$16,922.43]</td>\n",
       "      <td>[$16,974.83]</td>\n",
       "      <td>[$22,209,086,834]</td>\n",
       "      <td>[$326,346,115,860]</td>\n",
       "    </tr>\n",
       "    <tr>\n",
       "      <th>3</th>\n",
       "      <td>[Dec 04, 2022]</td>\n",
       "      <td>[$16,908.17]</td>\n",
       "      <td>[$17,157.77]</td>\n",
       "      <td>[$16,903.44]</td>\n",
       "      <td>[$17,130.49]</td>\n",
       "      <td>[$16,824,520,830]</td>\n",
       "      <td>[$329,323,845,089]</td>\n",
       "    </tr>\n",
       "    <tr>\n",
       "      <th>4</th>\n",
       "      <td>[Dec 03, 2022]</td>\n",
       "      <td>[$17,090.10]</td>\n",
       "      <td>[$17,116.04]</td>\n",
       "      <td>[$16,888.14]</td>\n",
       "      <td>[$16,908.24]</td>\n",
       "      <td>[$16,217,776,704]</td>\n",
       "      <td>[$325,037,180,855]</td>\n",
       "    </tr>\n",
       "    <tr>\n",
       "      <th>...</th>\n",
       "      <td>...</td>\n",
       "      <td>...</td>\n",
       "      <td>...</td>\n",
       "      <td>...</td>\n",
       "      <td>...</td>\n",
       "      <td>...</td>\n",
       "      <td>...</td>\n",
       "    </tr>\n",
       "    <tr>\n",
       "      <th>1491</th>\n",
       "      <td>[Nov 06, 2018]</td>\n",
       "      <td>[$6,433.38]</td>\n",
       "      <td>[$6,463.55]</td>\n",
       "      <td>[$6,408.16]</td>\n",
       "      <td>[$6,461.01]</td>\n",
       "      <td>[$4,700,040,000]</td>\n",
       "      <td>[$112,095,603,776]</td>\n",
       "    </tr>\n",
       "    <tr>\n",
       "      <th>1492</th>\n",
       "      <td>[Nov 05, 2018]</td>\n",
       "      <td>[$6,363.62]</td>\n",
       "      <td>[$6,480.59]</td>\n",
       "      <td>[$6,363.62]</td>\n",
       "      <td>[$6,419.66]</td>\n",
       "      <td>[$4,174,800,000]</td>\n",
       "      <td>[$111,456,211,022]</td>\n",
       "    </tr>\n",
       "    <tr>\n",
       "      <th>1493</th>\n",
       "      <td>[Nov 04, 2018]</td>\n",
       "      <td>[$6,365.47]</td>\n",
       "      <td>[$6,388.63]</td>\n",
       "      <td>[$6,294.57]</td>\n",
       "      <td>[$6,376.13]</td>\n",
       "      <td>[$4,390,020,000]</td>\n",
       "      <td>[$110,689,215,104]</td>\n",
       "    </tr>\n",
       "    <tr>\n",
       "      <th>1494</th>\n",
       "      <td>[Nov 03, 2018]</td>\n",
       "      <td>[$6,387.24]</td>\n",
       "      <td>[$6,400.07]</td>\n",
       "      <td>[$6,342.37]</td>\n",
       "      <td>[$6,361.26]</td>\n",
       "      <td>[$3,658,640,000]</td>\n",
       "      <td>[$110,421,212,888]</td>\n",
       "    </tr>\n",
       "    <tr>\n",
       "      <th>1495</th>\n",
       "      <td>[Nov 02, 2018]</td>\n",
       "      <td>[$6,378.92]</td>\n",
       "      <td>[$6,396.86]</td>\n",
       "      <td>[$6,327.38]</td>\n",
       "      <td>[$6,388.44]</td>\n",
       "      <td>[$4,234,870,000]</td>\n",
       "      <td>[$110,880,236,966]</td>\n",
       "    </tr>\n",
       "  </tbody>\n",
       "</table>\n",
       "<p>1496 rows × 7 columns</p>\n",
       "</div>"
      ],
      "text/plain": [
       "                Date         Open*          High           Low       Close**  \\\n",
       "0     [Dec 07, 2022]  [$17,089.51]  [$17,109.38]  [$16,750.56]  [$16,848.13]   \n",
       "1     [Dec 06, 2022]  [$16,975.24]  [$17,091.86]  [$16,939.92]  [$17,089.50]   \n",
       "2     [Dec 05, 2022]  [$17,128.89]  [$17,378.15]  [$16,922.43]  [$16,974.83]   \n",
       "3     [Dec 04, 2022]  [$16,908.17]  [$17,157.77]  [$16,903.44]  [$17,130.49]   \n",
       "4     [Dec 03, 2022]  [$17,090.10]  [$17,116.04]  [$16,888.14]  [$16,908.24]   \n",
       "...              ...           ...           ...           ...           ...   \n",
       "1491  [Nov 06, 2018]   [$6,433.38]   [$6,463.55]   [$6,408.16]   [$6,461.01]   \n",
       "1492  [Nov 05, 2018]   [$6,363.62]   [$6,480.59]   [$6,363.62]   [$6,419.66]   \n",
       "1493  [Nov 04, 2018]   [$6,365.47]   [$6,388.63]   [$6,294.57]   [$6,376.13]   \n",
       "1494  [Nov 03, 2018]   [$6,387.24]   [$6,400.07]   [$6,342.37]   [$6,361.26]   \n",
       "1495  [Nov 02, 2018]   [$6,378.92]   [$6,396.86]   [$6,327.38]   [$6,388.44]   \n",
       "\n",
       "                 Volume          Market Cap  \n",
       "0     [$19,675,404,389]  [$323,943,465,219]  \n",
       "1     [$19,889,922,369]  [$328,566,216,152]  \n",
       "2     [$22,209,086,834]  [$326,346,115,860]  \n",
       "3     [$16,824,520,830]  [$329,323,845,089]  \n",
       "4     [$16,217,776,704]  [$325,037,180,855]  \n",
       "...                 ...                 ...  \n",
       "1491   [$4,700,040,000]  [$112,095,603,776]  \n",
       "1492   [$4,174,800,000]  [$111,456,211,022]  \n",
       "1493   [$4,390,020,000]  [$110,689,215,104]  \n",
       "1494   [$3,658,640,000]  [$110,421,212,888]  \n",
       "1495   [$4,234,870,000]  [$110,880,236,966]  \n",
       "\n",
       "[1496 rows x 7 columns]"
      ]
     },
     "execution_count": 94,
     "metadata": {},
     "output_type": "execute_result"
    }
   ],
   "source": [
    "btc_dataframe"
   ]
  },
  {
   "cell_type": "code",
   "execution_count": null,
   "id": "8b1c93c2",
   "metadata": {},
   "outputs": [],
   "source": [
    "#  Converte os dados para string e remove os colchetes"
   ]
  },
  {
   "cell_type": "code",
   "execution_count": 95,
   "id": "4dfdcc0c",
   "metadata": {},
   "outputs": [],
   "source": [
    "for i in range(0,len(btc_dataframe)):\n",
    "    for x in range(0,6):\n",
    "        btc_dataframe.iloc[i][x]=str(btc_dataframe.iloc[i][x]).replace('[','').replace(']','')"
   ]
  },
  {
   "cell_type": "code",
   "execution_count": 110,
   "id": "a447d93a",
   "metadata": {
    "scrolled": true
   },
   "outputs": [
    {
     "data": {
      "text/html": [
       "<div>\n",
       "<style scoped>\n",
       "    .dataframe tbody tr th:only-of-type {\n",
       "        vertical-align: middle;\n",
       "    }\n",
       "\n",
       "    .dataframe tbody tr th {\n",
       "        vertical-align: top;\n",
       "    }\n",
       "\n",
       "    .dataframe thead th {\n",
       "        text-align: right;\n",
       "    }\n",
       "</style>\n",
       "<table border=\"1\" class=\"dataframe\">\n",
       "  <thead>\n",
       "    <tr style=\"text-align: right;\">\n",
       "      <th></th>\n",
       "      <th>Date</th>\n",
       "      <th>Open*</th>\n",
       "      <th>High</th>\n",
       "      <th>Low</th>\n",
       "      <th>Close**</th>\n",
       "      <th>Volume</th>\n",
       "      <th>Market Cap</th>\n",
       "    </tr>\n",
       "  </thead>\n",
       "  <tbody>\n",
       "    <tr>\n",
       "      <th>0</th>\n",
       "      <td>'Dec 07, 2022'</td>\n",
       "      <td>'$17,089.51'</td>\n",
       "      <td>'$17,109.38'</td>\n",
       "      <td>'$16,750.56'</td>\n",
       "      <td>'$16,848.13'</td>\n",
       "      <td>'$19,675,404,389'</td>\n",
       "      <td>[$323,943,465,219]</td>\n",
       "    </tr>\n",
       "    <tr>\n",
       "      <th>1</th>\n",
       "      <td>'Dec 06, 2022'</td>\n",
       "      <td>'$16,975.24'</td>\n",
       "      <td>'$17,091.86'</td>\n",
       "      <td>'$16,939.92'</td>\n",
       "      <td>'$17,089.50'</td>\n",
       "      <td>'$19,889,922,369'</td>\n",
       "      <td>[$328,566,216,152]</td>\n",
       "    </tr>\n",
       "    <tr>\n",
       "      <th>2</th>\n",
       "      <td>'Dec 05, 2022'</td>\n",
       "      <td>'$17,128.89'</td>\n",
       "      <td>'$17,378.15'</td>\n",
       "      <td>'$16,922.43'</td>\n",
       "      <td>'$16,974.83'</td>\n",
       "      <td>'$22,209,086,834'</td>\n",
       "      <td>[$326,346,115,860]</td>\n",
       "    </tr>\n",
       "    <tr>\n",
       "      <th>3</th>\n",
       "      <td>'Dec 04, 2022'</td>\n",
       "      <td>'$16,908.17'</td>\n",
       "      <td>'$17,157.77'</td>\n",
       "      <td>'$16,903.44'</td>\n",
       "      <td>'$17,130.49'</td>\n",
       "      <td>'$16,824,520,830'</td>\n",
       "      <td>[$329,323,845,089]</td>\n",
       "    </tr>\n",
       "    <tr>\n",
       "      <th>4</th>\n",
       "      <td>'Dec 03, 2022'</td>\n",
       "      <td>'$17,090.10'</td>\n",
       "      <td>'$17,116.04'</td>\n",
       "      <td>'$16,888.14'</td>\n",
       "      <td>'$16,908.24'</td>\n",
       "      <td>'$16,217,776,704'</td>\n",
       "      <td>[$325,037,180,855]</td>\n",
       "    </tr>\n",
       "    <tr>\n",
       "      <th>...</th>\n",
       "      <td>...</td>\n",
       "      <td>...</td>\n",
       "      <td>...</td>\n",
       "      <td>...</td>\n",
       "      <td>...</td>\n",
       "      <td>...</td>\n",
       "      <td>...</td>\n",
       "    </tr>\n",
       "    <tr>\n",
       "      <th>1491</th>\n",
       "      <td>'Nov 06, 2018'</td>\n",
       "      <td>'$6,433.38'</td>\n",
       "      <td>'$6,463.55'</td>\n",
       "      <td>'$6,408.16'</td>\n",
       "      <td>'$6,461.01'</td>\n",
       "      <td>'$4,700,040,000'</td>\n",
       "      <td>[$112,095,603,776]</td>\n",
       "    </tr>\n",
       "    <tr>\n",
       "      <th>1492</th>\n",
       "      <td>'Nov 05, 2018'</td>\n",
       "      <td>'$6,363.62'</td>\n",
       "      <td>'$6,480.59'</td>\n",
       "      <td>'$6,363.62'</td>\n",
       "      <td>'$6,419.66'</td>\n",
       "      <td>'$4,174,800,000'</td>\n",
       "      <td>[$111,456,211,022]</td>\n",
       "    </tr>\n",
       "    <tr>\n",
       "      <th>1493</th>\n",
       "      <td>'Nov 04, 2018'</td>\n",
       "      <td>'$6,365.47'</td>\n",
       "      <td>'$6,388.63'</td>\n",
       "      <td>'$6,294.57'</td>\n",
       "      <td>'$6,376.13'</td>\n",
       "      <td>'$4,390,020,000'</td>\n",
       "      <td>[$110,689,215,104]</td>\n",
       "    </tr>\n",
       "    <tr>\n",
       "      <th>1494</th>\n",
       "      <td>'Nov 03, 2018'</td>\n",
       "      <td>'$6,387.24'</td>\n",
       "      <td>'$6,400.07'</td>\n",
       "      <td>'$6,342.37'</td>\n",
       "      <td>'$6,361.26'</td>\n",
       "      <td>'$3,658,640,000'</td>\n",
       "      <td>[$110,421,212,888]</td>\n",
       "    </tr>\n",
       "    <tr>\n",
       "      <th>1495</th>\n",
       "      <td>'Nov 02, 2018'</td>\n",
       "      <td>'$6,378.92'</td>\n",
       "      <td>'$6,396.86'</td>\n",
       "      <td>'$6,327.38'</td>\n",
       "      <td>'$6,388.44'</td>\n",
       "      <td>'$4,234,870,000'</td>\n",
       "      <td>[$110,880,236,966]</td>\n",
       "    </tr>\n",
       "  </tbody>\n",
       "</table>\n",
       "<p>1496 rows × 7 columns</p>\n",
       "</div>"
      ],
      "text/plain": [
       "                Date         Open*          High           Low       Close**  \\\n",
       "0     'Dec 07, 2022'  '$17,089.51'  '$17,109.38'  '$16,750.56'  '$16,848.13'   \n",
       "1     'Dec 06, 2022'  '$16,975.24'  '$17,091.86'  '$16,939.92'  '$17,089.50'   \n",
       "2     'Dec 05, 2022'  '$17,128.89'  '$17,378.15'  '$16,922.43'  '$16,974.83'   \n",
       "3     'Dec 04, 2022'  '$16,908.17'  '$17,157.77'  '$16,903.44'  '$17,130.49'   \n",
       "4     'Dec 03, 2022'  '$17,090.10'  '$17,116.04'  '$16,888.14'  '$16,908.24'   \n",
       "...              ...           ...           ...           ...           ...   \n",
       "1491  'Nov 06, 2018'   '$6,433.38'   '$6,463.55'   '$6,408.16'   '$6,461.01'   \n",
       "1492  'Nov 05, 2018'   '$6,363.62'   '$6,480.59'   '$6,363.62'   '$6,419.66'   \n",
       "1493  'Nov 04, 2018'   '$6,365.47'   '$6,388.63'   '$6,294.57'   '$6,376.13'   \n",
       "1494  'Nov 03, 2018'   '$6,387.24'   '$6,400.07'   '$6,342.37'   '$6,361.26'   \n",
       "1495  'Nov 02, 2018'   '$6,378.92'   '$6,396.86'   '$6,327.38'   '$6,388.44'   \n",
       "\n",
       "                 Volume          Market Cap  \n",
       "0     '$19,675,404,389'  [$323,943,465,219]  \n",
       "1     '$19,889,922,369'  [$328,566,216,152]  \n",
       "2     '$22,209,086,834'  [$326,346,115,860]  \n",
       "3     '$16,824,520,830'  [$329,323,845,089]  \n",
       "4     '$16,217,776,704'  [$325,037,180,855]  \n",
       "...                 ...                 ...  \n",
       "1491   '$4,700,040,000'  [$112,095,603,776]  \n",
       "1492   '$4,174,800,000'  [$111,456,211,022]  \n",
       "1493   '$4,390,020,000'  [$110,689,215,104]  \n",
       "1494   '$3,658,640,000'  [$110,421,212,888]  \n",
       "1495   '$4,234,870,000'  [$110,880,236,966]  \n",
       "\n",
       "[1496 rows x 7 columns]"
      ]
     },
     "execution_count": 110,
     "metadata": {},
     "output_type": "execute_result"
    }
   ],
   "source": [
    "btc_dataframe"
   ]
  },
  {
   "cell_type": "code",
   "execution_count": null,
   "id": "91bfd85f",
   "metadata": {},
   "outputs": [],
   "source": []
  }
 ],
 "metadata": {
  "kernelspec": {
   "display_name": "Python 3",
   "language": "python",
   "name": "python3"
  },
  "language_info": {
   "codemirror_mode": {
    "name": "ipython",
    "version": 3
   },
   "file_extension": ".py",
   "mimetype": "text/x-python",
   "name": "python",
   "nbconvert_exporter": "python",
   "pygments_lexer": "ipython3",
   "version": "3.8.8"
  }
 },
 "nbformat": 4,
 "nbformat_minor": 5
}
